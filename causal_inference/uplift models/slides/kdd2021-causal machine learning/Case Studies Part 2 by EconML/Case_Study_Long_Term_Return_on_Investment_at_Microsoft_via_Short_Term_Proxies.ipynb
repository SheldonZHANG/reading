{
  "nbformat": 4,
  "nbformat_minor": 0,
  "metadata": {
    "kernelspec": {
      "display_name": "Python 3",
      "language": "python",
      "name": "python3"
    },
    "language_info": {
      "codemirror_mode": {
        "name": "ipython",
        "version": 3
      },
      "file_extension": ".py",
      "mimetype": "text/x-python",
      "name": "python",
      "nbconvert_exporter": "python",
      "pygments_lexer": "ipython3",
      "version": "3.7.4"
    },
    "colab": {
      "name": "Case Study - Long-Term Return-on-Investment at Microsoft via Short-Term Proxies.ipynb",
      "provenance": [],
      "collapsed_sections": [],
      "toc_visible": true
    }
  },
  "cells": [
    {
      "cell_type": "markdown",
      "metadata": {
        "id": "sX2vcj1ranZz"
      },
      "source": [
        "<img src=\"https://image.flaticon.com/icons/png/512/2394/2394119.png\" width=\"300\">\n",
        "\n",
        "# Long-Term Return-on-Investment at Microsoft via Short-Term Proxies\n",
        "\n",
        "\n",
        "Policy makers typically face the problem of wanting to estimate the treatment effect of some new incentives on long-run downstream interests. However, we only have historical data of older treatment options, and we haven't seen the long-run play out yet. We assume access to a long-term dataset where only past treatments were administered and a short-term dataset where novel treatments have been administered. We propose a surrogate based approach where we assume that the long-term effect is channeled through a multitude of available short-term proxies. Our work combines three major recent techniques in the causal machine learning literature: **surrogate indices**, **dynamic treatment effect estimation** and **double machine learning**, in a unified\n",
        "pipeline. For more details, see this paper [here](https://arxiv.org/pdf/2103.08390.pdf).\n",
        "\n",
        "In this case study, we will show you how to apply this unified pipeline to a ROI estimation problem at Microsoft. These methodologies have already been implemented into our [EconML](https://aka.ms/econml) library and you could do it with only a few lines of code."
      ]
    },
    {
      "cell_type": "markdown",
      "metadata": {
        "id": "VuGRD78IanZ9"
      },
      "source": [
        "### Summary\n",
        "\n",
        "1. [Background](#Background)\n",
        "2. [Data](#Data)\n",
        "3. [Do Dynamic Adjustment with EconML](#Do-Dynamic-Adjustment-with-EconML)\n",
        "4. [Train Surrogate Index](#Train-Surrogate-Index)\n",
        "5. [Run DML to learn ROI with EconML](#Run-DML-to-learn-ROI-with-EconML)\n",
        "6. [Model Evaluation](#Model-Evaluation)\n",
        "7. [Conclusions](#Conclusions)"
      ]
    },
    {
      "cell_type": "markdown",
      "metadata": {
        "id": "tkfffqEJanaB"
      },
      "source": [
        "# Background\n",
        "\n",
        "Microsoft provides multiple montetary and resource investments to enterprice customers in support of products adoption, the sales manager would like to know which of these programs (\"investments\") are more successful than others? Specifically, we are interested in identifying the average treatment effect of each investment at some period $t$, on the cumulative outcome in the subsequent $m$ months. \n",
        "\n",
        "There are a few challenges to answer this question. First of all, we haven't fully observed the long-term revenue yet and we don't want to wait that long to evaluate a program. In addition, a careful causal modeling is required to correctly attribute the long-term ROI of multiple programs in a holistic manner, avoiding the biased estimate coming from confounding effect or double counting issues. \n",
        "\n",
        "The causal graph below shows how to frame this problem:\n",
        "\n",
        "![](https://drive.google.com/uc?export=view&id=1joPt0TWIn_QTK3eAFe8VBQXIiARyBcZm)\n",
        "\n",
        "**Methodology:** Our proposed adjusted surrogate index approach could address all the chanllenges above by assuming the long-term effect is channeled through some short-term observed surrogates and employing a dynamic adjustment step (`DynamicDML`) to the surrogate model in order to get rid of the effect from future investment, finally applying double machine learning (`DML`) techniques to estimate the ROI. \n",
        "\n",
        "The pipeline below tells you how to solve this problem step by step:\n",
        "![](https://drive.google.com/uc?export=view&id=1VN94rJWbzzXiNl2y91NRXBXFAnCylaQN)"
      ]
    },
    {
      "cell_type": "code",
      "metadata": {
        "id": "WzzTPWdfbDmt"
      },
      "source": [
        "!pip install git+https://github.com/microsoft/EconML.git@moprescu/dynamicdml#egg=econml"
      ],
      "execution_count": null,
      "outputs": []
    },
    {
      "cell_type": "code",
      "metadata": {
        "id": "ld1FrbYQanaE"
      },
      "source": [
        "# imports\n",
        "from econml.data.dynamic_panel_dgp import SemiSynthetic\n",
        "from sklearn.linear_model import LassoCV, MultiTaskLassoCV\n",
        "import numpy as np\n",
        "import matplotlib.pyplot as plt"
      ],
      "execution_count": null,
      "outputs": []
    },
    {
      "cell_type": "markdown",
      "metadata": {
        "id": "UYsHeEaqanaI"
      },
      "source": [
        "# Data\n",
        "\n",
        "The **semi-synthetic data*** is comprised of 4 components:\n",
        " * **Surrogates:** short-term metrics that could represent long-term revenue\n",
        " * **Treatments:** different types of monetary investments to the end customers\n",
        " * **Outcomes:** cumulative long-term revenue\n",
        " * **Controls:** lagged surrogates and treatments, other time-invariant controls (e.g. demographics)\n",
        "\n",
        "To build the semi-synthetic data we estimate a series of moments from a real-world dataset: a full covariance matrix of\n",
        "all surrogates, treatments, and controls in one period and a series of linear prediction models (lassoCV) of each surrogate and\n",
        "treatment on a set of 6 lags of each treatment, 6 lags of each surrogate, and time-invariant controls. Using these values, we draw new parameters from distributions matching the key characteristics of each family of parameters. Finally, we use these new\n",
        "parameters to simulate surrogates, treatments, and controls by drawing a set of initial values from the covariance matrix and\n",
        "forward simulating to match intertemporal relationships from the transformed prediction models. We use one surrogate to be the outcome of interests. Then we consider the effect of each treatment in period $t$ on the cumulative sum of outcome from following 4 periods. We can calculate the true treatment effects in the semi-synthetic data as a function of parameters from the linear prediction models.\n",
        "\n",
        "The input data is in a **panel format**. Each panel corresponds to one company and the different rows in a panel correspond to different time period. \n",
        "\n",
        "Example:\n",
        "\n",
        "||Company|Year|Features|Controls/Surrogates|T1|T2|T3|AdjRev|\n",
        "|---|---|---|---|---|---|---|---|---|\n",
        "|1|A|2018|...|...|\\$1,000|...|...|\\$10,000|\n",
        "|2|A|2019|...|...|\\$2,000|...|...|\\$12,000|\n",
        "|3|A|2020|...|...|\\$3,000|...|...|\\$15,000|\n",
        "|4|A|2021|...|...|\\$3,000|...|...|\\$18,000|\n",
        "|5|B|2018|...|...|\\$0|...|...|\\$5,000|\n",
        "|6|B|2019|...|...|\\$1,000|...|...|\\$10,000|\n",
        "|7|B|2020|...|...|\\$0|...|...|\\$7,000|\n",
        "|8|B|2021|...|...|\\$1,200|...|...|\\$12,000|\n",
        "|9|C|2018|...|...|\\$1,000|...|...|\\$20,000|\n",
        "|10|C|2019|...|...|\\$1,500|...|...|\\$25,000|\n",
        "|11|C|2020|...|...|\\$500|...|...|\\$18,000|\n",
        "|12|C|2021|...|...|\\$500|...|...|\\$20,000|\n",
        " \n",
        " **For confidentiality reason, the data used in this case study is synthetically generated and the feature distributions don't exactly correspond to real distributions.*"
      ]
    },
    {
      "cell_type": "code",
      "metadata": {
        "id": "zYo2DLneanaL",
        "colab": {
          "base_uri": "https://localhost:8080/"
        },
        "outputId": "23bbef1b-b4c8-4a34-a644-94c71e38f4bc"
      },
      "source": [
        "# generate historical dataset (training purpose)\n",
        "np.random.seed(43)\n",
        "dgp = SemiSynthetic()\n",
        "dgp.create_instance()\n",
        "n_periods = 4\n",
        "n_units = 5000\n",
        "n_treatments = dgp.n_treatments\n",
        "random_seed = 43\n",
        "thetas = np.random.uniform(0, 2, size=(dgp.n_proxies, n_treatments))\n",
        "\n",
        "panelX, panelT, panelY, panelGroups, true_effect = dgp.gen_data(\n",
        "    n_units, n_periods, thetas, random_seed)"
      ],
      "execution_count": null,
      "outputs": [
        {
          "output_type": "stream",
          "text": [
            "/usr/local/lib/python3.7/dist-packages/sklearn/base.py:318: UserWarning: Trying to unpickle estimator GaussianMixture from version 0.24.1 when using version 0.22.2.post1. This might lead to breaking code or invalid results. Use at your own risk.\n",
            "  UserWarning)\n"
          ],
          "name": "stderr"
        }
      ]
    },
    {
      "cell_type": "code",
      "metadata": {
        "id": "bMQVHQTzanaO",
        "colab": {
          "base_uri": "https://localhost:8080/"
        },
        "outputId": "16e3e3d9-efe5-41b2-8824-879a4b7b0855"
      },
      "source": [
        "# print panel data shape\n",
        "print(\"Outcome shape: \", panelY.shape)\n",
        "print(\"Treatment shape: \", panelT.shape)\n",
        "print(\"Controls shape: \", panelX.shape)"
      ],
      "execution_count": null,
      "outputs": [
        {
          "output_type": "stream",
          "text": [
            "Outcome shape:  (5000, 4)\n",
            "Treatment shape:  (5000, 4, 3)\n",
            "Controls shape:  (5000, 4, 71)\n"
          ],
          "name": "stdout"
        }
      ]
    },
    {
      "cell_type": "code",
      "metadata": {
        "id": "epWJwhaCanaS"
      },
      "source": [
        "# generate new dataset (testing purpose)\n",
        "thetas_new = np.random.uniform(0, 2, size=(dgp.n_proxies, n_treatments))\n",
        "panelXnew, panelTnew, panelYnew, panelGroupsnew, true_effect_new = dgp.gen_data(\n",
        "    n_units, n_periods, thetas_new, random_seed\n",
        ")"
      ],
      "execution_count": null,
      "outputs": []
    },
    {
      "cell_type": "code",
      "metadata": {
        "id": "QEvF23-7anaV",
        "colab": {
          "base_uri": "https://localhost:8080/"
        },
        "outputId": "75d557ab-bd9f-46db-9540-e42e09421828"
      },
      "source": [
        "# print true long term effect\n",
        "true_longterm_effect = np.sum(true_effect_new, axis=0)\n",
        "print(\"True Long-term Effect for each investment: \", true_longterm_effect)"
      ],
      "execution_count": null,
      "outputs": [
        {
          "output_type": "stream",
          "text": [
            "True Long-term Effect for each investment:  [0.90994672 0.709811   2.45310877]\n"
          ],
          "name": "stdout"
        }
      ]
    },
    {
      "cell_type": "markdown",
      "metadata": {
        "id": "hI4ThKbnanab"
      },
      "source": [
        "# Do Dynamic Adjustment with EconML\n",
        "From the causal graph above, we could see we want to first remove the effects of future incentives from the historical outcomes to create an **adjusted long-term revenue** as if those future incentives never happened.\n",
        "\n",
        "EconML's `DynamicDML` estimator is an extension of Double Machine Learning approach to **dynamically estimate the period effect of treatments assigned sequentially over time period**. In this scenario, it could help us to adjust the cumulative revenue by subtracting the period effect of all of the investments after the target investment.\n",
        "\n",
        "For more details about `DynamicDML`, please read this [paper](https://arxiv.org/pdf/2002.07285.pdf). "
      ]
    },
    {
      "cell_type": "code",
      "metadata": {
        "id": "3rGdy_q7anad"
      },
      "source": [
        "# Helper function to reshape the panel data\n",
        "def long(x):  # reshape the panel data to (n_units * n_periods, -1)\n",
        "    n_units = x.shape[0]\n",
        "    n_periods = x.shape[1]\n",
        "    return (\n",
        "        x.reshape(n_units * n_periods)\n",
        "        if np.ndim(x) == 2\n",
        "        else x.reshape(n_units * n_periods, -1)\n",
        "    )\n",
        "\n",
        "\n",
        "def wide(x):  # reshape the panel data to (n_units, n_periods * d_x)\n",
        "    n_units = x.shape[0]\n",
        "    return x.reshape(n_units, -1)"
      ],
      "execution_count": null,
      "outputs": []
    },
    {
      "cell_type": "code",
      "metadata": {
        "id": "QClFHYcfanae"
      },
      "source": [
        "# on historical data construct adjusted outcomes\n",
        "from econml.dynamic.dml import DynamicDML\n",
        "\n",
        "panelYadj = panelY.copy()\n",
        "\n",
        "est = DynamicDML(\n",
        "    model_y=LassoCV(max_iter=2000), model_t=MultiTaskLassoCV(max_iter=2000), cv=2\n",
        ")\n",
        "for t in range(1, n_periods):  # for each target period 1...m\n",
        "    # learn period effect for each period treatment on target period t\n",
        "    est.fit(\n",
        "        long(panelY[:, 1 : t + 1]),\n",
        "        long(panelT[:, 1 : t + 1, :]),  # reshape data to long format\n",
        "        X=None,\n",
        "        W=long(panelX[:, 1 : t + 1, :]),\n",
        "        groups=long(panelGroups[:, 1 : t + 1]),\n",
        "    )\n",
        "    # remove effect of observed treatments\n",
        "    T1 = wide(panelT[:, 1 : t + 1, :])\n",
        "    panelYadj[:, t] = panelY[:, t] - est.effect(\n",
        "        T0=np.zeros_like(T1), T1=T1\n",
        "    )  # reshape data to wide format"
      ],
      "execution_count": null,
      "outputs": []
    },
    {
      "cell_type": "markdown",
      "metadata": {
        "id": "vaYZAdd2anag"
      },
      "source": [
        "# Train Surrogate Index\n",
        "Once we have the adjusted outcome, we'd like to train any ML model to learn the relationship between short-term surrogates and long-term revenue from the historical dataset, assuming the treatment effect of investments on long-term revenue could **only** go through short-term surrogates, and the **relationship keeps the same** between the historical dataset and the new dataset."
      ]
    },
    {
      "cell_type": "code",
      "metadata": {
        "id": "excwocaCanah"
      },
      "source": [
        "# train surrogate index on historical dataset\n",
        "XS = np.hstack(\n",
        "    [panelX[:, 1], panelYadj[:, :1]]\n",
        ")  # concatenate controls and surrogates from historical dataset\n",
        "TotalYadj = np.sum(panelYadj, axis=1)  # total revenue from historical dataset\n",
        "adjusted_proxy_model = LassoCV().fit(\n",
        "    XS, TotalYadj\n",
        ")  # train proxy model from historical dataset"
      ],
      "execution_count": null,
      "outputs": []
    },
    {
      "cell_type": "code",
      "metadata": {
        "id": "QV2aePe9anai"
      },
      "source": [
        "# predict new long term revenue\n",
        "XSnew = np.hstack(\n",
        "    [panelXnew[:, 1], panelYnew[:, :1]]\n",
        ")  # concatenate controls and surrogates from new dataset\n",
        "sindex_adj = adjusted_proxy_model.predict(XSnew)"
      ],
      "execution_count": null,
      "outputs": []
    },
    {
      "cell_type": "markdown",
      "metadata": {
        "id": "mhyZZC3Zanak"
      },
      "source": [
        "# Run DML to learn ROI with EconML\n",
        "Finally we will call `LinearDML` estimator from EconML to learn the treatment effect of multiple investments on the adjusted surrogate index in new dataset. `LinearDML` is a two stage machine learning models for estimating **(heterogeneous) treatment effects** when all potential confounders are observed, it leverages the machine learning power to deal with **high dimensional dataset** and still be able to construct **confidence intervals**. \n",
        "\n",
        "For more details, please read this [paper](https://arxiv.org/pdf/1608.00060.pdf). "
      ]
    },
    {
      "cell_type": "code",
      "metadata": {
        "id": "IVCLwG1manak",
        "outputId": "75f1cf07-f92d-46c9-ca74-cea614c792da"
      },
      "source": [
        "# learn treatment effect on surrogate index on new dataset\n",
        "from econml.dml import LinearDML\n",
        "\n",
        "adjsurr_est = LinearDML(\n",
        "    model_y=LassoCV(max_iter=1000), model_t=MultiTaskLassoCV(max_iter=1000), cv=3\n",
        ")\n",
        "# fit treatment_0 on total revenue from new dataset\n",
        "adjsurr_est.fit(sindex_adj, panelTnew[:, 0], X=None, W=panelXnew[:, 0])\n",
        "# print treatment effect summary\n",
        "print(\"True Long-term Effect for each investment: \", true_longterm_effect)\n",
        "adjsurr_est.summary(alpha=0.05)"
      ],
      "execution_count": null,
      "outputs": [
        {
          "output_type": "stream",
          "text": [
            "True Long-term Effect for each investment:  [2.78577429 3.93764671 0.74981862]\n",
            "Coefficient Results:  X is None, please call intercept_inference to learn the constant!\n"
          ],
          "name": "stdout"
        },
        {
          "output_type": "execute_result",
          "data": {
            "text/html": [
              "<table class=\"simpletable\">\n",
              "<caption>CATE Intercept Results</caption>\n",
              "<tr>\n",
              "          <td></td>          <th>point_estimate</th> <th>stderr</th>  <th>zstat</th>  <th>pvalue</th> <th>ci_lower</th> <th>ci_upper</th>\n",
              "</tr>\n",
              "<tr>\n",
              "  <th>cate_intercept|T0</th>      <td>2.826</td>      <td>0.007</td> <td>405.558</td>   <td>0.0</td>    <td>2.812</td>    <td>2.84</td>  \n",
              "</tr>\n",
              "<tr>\n",
              "  <th>cate_intercept|T1</th>      <td>4.03</td>       <td>0.023</td> <td>174.38</td>    <td>0.0</td>    <td>3.985</td>    <td>4.075</td> \n",
              "</tr>\n",
              "<tr>\n",
              "  <th>cate_intercept|T2</th>      <td>0.676</td>      <td>0.035</td> <td>19.408</td>    <td>0.0</td>    <td>0.608</td>    <td>0.745</td> \n",
              "</tr>\n",
              "</table><br/><br/><sub>A linear parametric conditional average treatment effect (CATE) model was fitted:<br/>$Y = \\Theta(X)\\cdot T + g(X, W) + \\epsilon$<br/>where for every outcome $i$ and treatment $j$ the CATE $\\Theta_{ij}(X)$ has the form:<br/>$\\Theta_{ij}(X) = \\phi(X)' coef_{ij} + cate\\_intercept_{ij}$<br/>where $\\phi(X)$ is the output of the `featurizer` or $X$ if `featurizer`=None. Coefficient Results table portrays the $coef_{ij}$ parameter vector for each outcome $i$ and treatment $j$. Intercept Results table portrays the $cate\\_intercept_{ij}$ parameter.</sub>"
            ],
            "text/plain": [
              "<class 'econml.utilities.Summary'>\n",
              "\"\"\"\n",
              "                         CATE Intercept Results                         \n",
              "========================================================================\n",
              "                  point_estimate stderr  zstat  pvalue ci_lower ci_upper\n",
              "------------------------------------------------------------------------\n",
              "cate_intercept|T0          2.826  0.007 405.558    0.0    2.812     2.84\n",
              "cate_intercept|T1           4.03  0.023  174.38    0.0    3.985    4.075\n",
              "cate_intercept|T2          0.676  0.035  19.408    0.0    0.608    0.745\n",
              "------------------------------------------------------------------------\n",
              "\n",
              "<sub>A linear parametric conditional average treatment effect (CATE) model was fitted:\n",
              "$Y = \\Theta(X)\\cdot T + g(X, W) + \\epsilon$\n",
              "where for every outcome $i$ and treatment $j$ the CATE $\\Theta_{ij}(X)$ has the form:\n",
              "$\\Theta_{ij}(X) = \\phi(X)' coef_{ij} + cate\\_intercept_{ij}$\n",
              "where $\\phi(X)$ is the output of the `featurizer` or $X$ if `featurizer`=None. Coefficient Results table portrays the $coef_{ij}$ parameter vector for each outcome $i$ and treatment $j$. Intercept Results table portrays the $cate\\_intercept_{ij}$ parameter.</sub>\n",
              "\"\"\""
            ]
          },
          "metadata": {
            "tags": []
          },
          "execution_count": 10
        }
      ]
    },
    {
      "cell_type": "code",
      "metadata": {
        "id": "ECWZC9K4anam"
      },
      "source": [
        "# save the treatment effect and confidence interval\n",
        "adjsurr_point_est = adjsurr_est.intercept_\n",
        "adjsurr_conf_int_lb, adjsurr_conf_int_ub = adjsurr_est.intercept__interval(alpha=0.05)"
      ],
      "execution_count": null,
      "outputs": []
    },
    {
      "cell_type": "markdown",
      "metadata": {
        "id": "RJkvkceDanan"
      },
      "source": [
        "# Model Evaluation\n",
        "Now we want to compare the proposed **adjusted surrogate index** approach with estimation from realized long-term outcome. Below we train another `LinearDML` model on the realized cumulative revenue directly, without any adjustment. And then we visualize the two models output, comparing with the ground truth."
      ]
    },
    {
      "cell_type": "code",
      "metadata": {
        "id": "PWQPYFdQanan",
        "outputId": "2265a81a-06f8-4d74-aebd-70972d34056c"
      },
      "source": [
        "# learn treatment effect on direct outcome\n",
        "from econml.dml import LinearDML\n",
        "\n",
        "direct_est = LinearDML(\n",
        "    model_y=LassoCV(max_iter=1000), model_t=MultiTaskLassoCV(max_iter=1000), cv=3\n",
        ")\n",
        "# fit treatment_0 on total revenue from new dataset\n",
        "direct_est.fit(np.sum(panelYnew, axis=1), panelTnew[:, 0], X=None, W=panelXnew[:, 0])\n",
        "# print treatment effect summary\n",
        "print(\"True Long-term Effect for each investment: \", true_longterm_effect)\n",
        "direct_est.summary(alpha=0.05)"
      ],
      "execution_count": null,
      "outputs": [
        {
          "output_type": "stream",
          "text": [
            "True Long-term Effect for each investment:  [2.78577429 3.93764671 0.74981862]\n",
            "Coefficient Results:  X is None, please call intercept_inference to learn the constant!\n"
          ],
          "name": "stdout"
        },
        {
          "output_type": "execute_result",
          "data": {
            "text/html": [
              "<table class=\"simpletable\">\n",
              "<caption>CATE Intercept Results</caption>\n",
              "<tr>\n",
              "          <td></td>          <th>point_estimate</th> <th>stderr</th>  <th>zstat</th>  <th>pvalue</th> <th>ci_lower</th> <th>ci_upper</th>\n",
              "</tr>\n",
              "<tr>\n",
              "  <th>cate_intercept|T0</th>      <td>6.73</td>       <td>0.052</td> <td>129.741</td>   <td>0.0</td>    <td>6.628</td>    <td>6.832</td> \n",
              "</tr>\n",
              "<tr>\n",
              "  <th>cate_intercept|T1</th>      <td>9.754</td>      <td>0.132</td> <td>73.643</td>    <td>0.0</td>    <td>9.494</td>   <td>10.014</td> \n",
              "</tr>\n",
              "<tr>\n",
              "  <th>cate_intercept|T2</th>      <td>3.781</td>      <td>0.12</td>  <td>31.484</td>    <td>0.0</td>    <td>3.545</td>    <td>4.016</td> \n",
              "</tr>\n",
              "</table><br/><br/><sub>A linear parametric conditional average treatment effect (CATE) model was fitted:<br/>$Y = \\Theta(X)\\cdot T + g(X, W) + \\epsilon$<br/>where for every outcome $i$ and treatment $j$ the CATE $\\Theta_{ij}(X)$ has the form:<br/>$\\Theta_{ij}(X) = \\phi(X)' coef_{ij} + cate\\_intercept_{ij}$<br/>where $\\phi(X)$ is the output of the `featurizer` or $X$ if `featurizer`=None. Coefficient Results table portrays the $coef_{ij}$ parameter vector for each outcome $i$ and treatment $j$. Intercept Results table portrays the $cate\\_intercept_{ij}$ parameter.</sub>"
            ],
            "text/plain": [
              "<class 'econml.utilities.Summary'>\n",
              "\"\"\"\n",
              "                         CATE Intercept Results                         \n",
              "========================================================================\n",
              "                  point_estimate stderr  zstat  pvalue ci_lower ci_upper\n",
              "------------------------------------------------------------------------\n",
              "cate_intercept|T0           6.73  0.052 129.741    0.0    6.628    6.832\n",
              "cate_intercept|T1          9.754  0.132  73.643    0.0    9.494   10.014\n",
              "cate_intercept|T2          3.781   0.12  31.484    0.0    3.545    4.016\n",
              "------------------------------------------------------------------------\n",
              "\n",
              "<sub>A linear parametric conditional average treatment effect (CATE) model was fitted:\n",
              "$Y = \\Theta(X)\\cdot T + g(X, W) + \\epsilon$\n",
              "where for every outcome $i$ and treatment $j$ the CATE $\\Theta_{ij}(X)$ has the form:\n",
              "$\\Theta_{ij}(X) = \\phi(X)' coef_{ij} + cate\\_intercept_{ij}$\n",
              "where $\\phi(X)$ is the output of the `featurizer` or $X$ if `featurizer`=None. Coefficient Results table portrays the $coef_{ij}$ parameter vector for each outcome $i$ and treatment $j$. Intercept Results table portrays the $cate\\_intercept_{ij}$ parameter.</sub>\n",
              "\"\"\""
            ]
          },
          "metadata": {
            "tags": []
          },
          "execution_count": 12
        }
      ]
    },
    {
      "cell_type": "code",
      "metadata": {
        "id": "-EA23vnsanao"
      },
      "source": [
        "# save the treatment effect and confidence interval\n",
        "direct_point_est = direct_est.intercept_\n",
        "direct_conf_int_lb, direct_conf_int_ub = direct_est.intercept__interval(alpha=0.05)"
      ],
      "execution_count": null,
      "outputs": []
    },
    {
      "cell_type": "code",
      "metadata": {
        "id": "mnNfHvwJanap",
        "outputId": "b04f3a3d-2313-4958-bb59-07c2512cceba"
      },
      "source": [
        "# plot the error bar plot of different models\n",
        "plt.figure(figsize=(18, 6))\n",
        "plt.subplot(1, 2, 1)\n",
        "\n",
        "plt.errorbar(\n",
        "    np.arange(n_treatments) - 0.04,\n",
        "    true_longterm_effect,\n",
        "    fmt=\"o\",\n",
        "    alpha=0.6,\n",
        "    label=\"Ground truth\",\n",
        ")\n",
        "plt.errorbar(\n",
        "    np.arange(n_treatments),\n",
        "    adjsurr_point_est,\n",
        "    yerr=(\n",
        "        adjsurr_conf_int_ub - adjsurr_point_est,\n",
        "        adjsurr_point_est - adjsurr_conf_int_lb,\n",
        "    ),\n",
        "    fmt=\"o\",\n",
        "    label=\"Adjusted Surrogate Index\",\n",
        ")\n",
        "plt.xticks(np.arange(n_treatments), [\"T0\", \"T1\", \"T2\"])\n",
        "plt.ylabel(\"Effect\")\n",
        "plt.legend()\n",
        "\n",
        "plt.subplot(1, 2, 2)\n",
        "plt.errorbar(\n",
        "    np.arange(n_treatments) - 0.04,\n",
        "    true_longterm_effect,\n",
        "    fmt=\"o\",\n",
        "    alpha=0.6,\n",
        "    label=\"Ground truth\",\n",
        ")\n",
        "plt.errorbar(\n",
        "    np.arange(n_treatments),\n",
        "    adjsurr_point_est,\n",
        "    yerr=(\n",
        "        adjsurr_conf_int_ub - adjsurr_point_est,\n",
        "        adjsurr_point_est - adjsurr_conf_int_lb,\n",
        "    ),\n",
        "    fmt=\"o\",\n",
        "    label=\"Adjusted Surrogate Index\",\n",
        ")\n",
        "plt.errorbar(\n",
        "    np.arange(n_treatments) + 0.04,\n",
        "    direct_point_est,\n",
        "    yerr=(direct_conf_int_ub - direct_point_est, direct_point_est - direct_conf_int_lb),\n",
        "    fmt=\"o\",\n",
        "    label=\"Direct Model\",\n",
        ")\n",
        "plt.xticks(np.arange(n_treatments), [\"T0\", \"T1\", \"T2\"])\n",
        "plt.ylabel(\"Effect\")\n",
        "plt.legend()\n",
        "plt.suptitle(\"Error bar plot of treatment effect from different models\")"
      ],
      "execution_count": null,
      "outputs": [
        {
          "output_type": "execute_result",
          "data": {
            "text/plain": [
              "Text(0.5, 0.98, 'Error bar plot of treatment effect from different models')"
            ]
          },
          "metadata": {
            "tags": []
          },
          "execution_count": 14
        },
        {
          "output_type": "display_data",
          "data": {
            "image/png": "[encoded data removed]",
            "text/plain": [
              "<Figure size 1296x432 with 2 Axes>"
            ]
          },
          "metadata": {
            "tags": [],
            "needs_background": "light"
          }
        }
      ]
    },
    {
      "cell_type": "markdown",
      "metadata": {
        "id": "q6eCYFJDanar"
      },
      "source": [
        "We could see the **adjusted surrogate index** approach does a good job overcomes a common data limitation when considering long-term effects of novel treatments and expands the surrogate approach to consider a common, and previously\n",
        "problematic, pattern of serially correlated treatments."
      ]
    },
    {
      "cell_type": "markdown",
      "metadata": {
        "id": "QfK5xlReanas"
      },
      "source": [
        "# Conclusions\n",
        "\n",
        "In this notebook, we have demonstrated the power of using EconML to:\n",
        "\n",
        "* estimate treatment effects in settings when multiple treatments are assigned over time and treatments can have a causal effect on future outcomes\n",
        "* correct the bias coming from auto-correlation of the historical treatment policy\n",
        "* use Machine Learning to enable estimation with high-dimensional surrogates and controls\n",
        "* solve a complex problem using an unified pipeline with only a few lines of code\n",
        "\n",
        "To learn more about what EconML can do for you, visit our [website](https://aka.ms/econml), our [GitHub page](https://github.com/microsoft/EconML) or our [documentation](https://econml.azurewebsites.net/). "
      ]
    }
  ]
}